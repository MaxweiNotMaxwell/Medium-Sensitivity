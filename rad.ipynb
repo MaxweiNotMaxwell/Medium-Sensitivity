{
 "cells": [
  {
   "cell_type": "markdown",
   "id": "44971b5e-1f5f-42a9-a723-1f1561c0c030",
   "metadata": {
    "tags": []
   },
   "source": [
    "提取特征\n",
    "================="
   ]
  },
  {
   "cell_type": "code",
   "execution_count": 1,
   "id": "2a8b70c9-5cde-4115-889d-a9f356e11e95",
   "metadata": {},
   "outputs": [],
   "source": [
    "import pandas as pd\n",
    "import numpy as np\n",
    "import SimpleITK as sitk\n",
    "import os\n",
    "import six\n",
    "from radiomics import featureextractor"
   ]
  },
  {
   "cell_type": "code",
   "execution_count": 2,
   "id": "02169288-52e6-4884-9824-04760074238d",
   "metadata": {},
   "outputs": [],
   "source": [
    "def ReadImage(dicompath):\n",
    "    reader = sitk.ImageSeriesReader()\n",
    "    dicom_names = reader.GetGDCMSeriesFileNames(dicompath)\n",
    "    reader.SetFileNames(dicom_names)\n",
    "    image = reader.Execute()\n",
    "    return image"
   ]
  },
  {
   "cell_type": "code",
   "execution_count": 3,
   "id": "73c42eb5-76ad-4da6-9991-70c1a2493183",
   "metadata": {},
   "outputs": [],
   "source": [
    "def ReadMask(dicompath):\n",
    "    for nii in os.listdir(dicompath):\n",
    "        if nii.split('.')[-1] == 'gz':\n",
    "            mask = sitk.ReadImage(os.path.join(dicompath,nii))\n",
    "    return mask"
   ]
  },
  {
   "cell_type": "code",
   "execution_count": 21,
   "id": "79f54a7f-2260-4791-a772-80f0b33f72dd",
   "metadata": {},
   "outputs": [],
   "source": [
    "def RadiomicsFeature(image, mask, ID):\n",
    "    extractor = featureextractor.RadiomicsFeatureExtractor(geometryTolerance=0.001, Lable = 5)  # lable 1 肿瘤， Lable 5 淋巴结\n",
    "    result = extractor.execute(image, mask)\n",
    "    features_dict = dict()\n",
    "    features_dict['ID'] = ID\n",
    "    df = pd.DataFrame()\n",
    "    for key, val in six.iteritems(result):\n",
    "        if 'diagnostics_Versions' in  key or 'diagnostics_Configuration' in key:#这些都是一些共有的特征，可以去掉\n",
    "            continue\n",
    "        features_dict[key + '_lymph'] = val\n",
    "    df = df.append(pd.DataFrame.from_dict(features_dict.values()).T,ignore_index=True)\n",
    "#print(index)\n",
    "    df.columns = features_dict.keys()\n",
    "    if not os.path.exists('result.csv'):\n",
    "        df.to_csv('result.csv',mode='a',index=0)\n",
    "    else:\n",
    "        df.to_csv('result.csv',mode='a',index=0,header=False)"
   ]
  },
  {
   "cell_type": "code",
   "execution_count": 3,
   "id": "a952e4a0-8c17-4a2a-9ee6-3e8d560905d6",
   "metadata": {},
   "outputs": [],
   "source": [
    "xlsx_filepath = 'D:/Desktop/ms/data.xls'\n",
    "data = pd.read_excel(xlsx_filepath,usecols=[1],dtype = str)"
   ]
  },
  {
   "cell_type": "code",
   "execution_count": 6,
   "id": "9852758a-e05e-4bab-9b68-1ede317a12e1",
   "metadata": {},
   "outputs": [
    {
     "data": {
      "text/html": [
       "<div>\n",
       "<style scoped>\n",
       "    .dataframe tbody tr th:only-of-type {\n",
       "        vertical-align: middle;\n",
       "    }\n",
       "\n",
       "    .dataframe tbody tr th {\n",
       "        vertical-align: top;\n",
       "    }\n",
       "\n",
       "    .dataframe thead th {\n",
       "        text-align: right;\n",
       "    }\n",
       "</style>\n",
       "<table border=\"1\" class=\"dataframe\">\n",
       "  <thead>\n",
       "    <tr style=\"text-align: right;\">\n",
       "      <th></th>\n",
       "      <th>住院号</th>\n",
       "    </tr>\n",
       "  </thead>\n",
       "  <tbody>\n",
       "    <tr>\n",
       "      <th>0</th>\n",
       "      <td>0016483567</td>\n",
       "    </tr>\n",
       "    <tr>\n",
       "      <th>1</th>\n",
       "      <td>0000465981</td>\n",
       "    </tr>\n",
       "    <tr>\n",
       "      <th>2</th>\n",
       "      <td>0016657839</td>\n",
       "    </tr>\n",
       "    <tr>\n",
       "      <th>3</th>\n",
       "      <td>0016710554</td>\n",
       "    </tr>\n",
       "    <tr>\n",
       "      <th>4</th>\n",
       "      <td>0015365389</td>\n",
       "    </tr>\n",
       "  </tbody>\n",
       "</table>\n",
       "</div>"
      ],
      "text/plain": [
       "          住院号\n",
       "0  0016483567\n",
       "1  0000465981\n",
       "2  0016657839\n",
       "3  0016710554\n",
       "4  0015365389"
      ]
     },
     "execution_count": 6,
     "metadata": {},
     "output_type": "execute_result"
    }
   ],
   "source": [
    "data.head()"
   ]
  },
  {
   "cell_type": "code",
   "execution_count": 7,
   "id": "e1516f17-c948-42ea-83ef-0e015a6097fb",
   "metadata": {},
   "outputs": [],
   "source": [
    "input_path = r'C:\\wei\\DATA'"
   ]
  },
  {
   "cell_type": "code",
   "execution_count": 22,
   "id": "50a36d15-7366-4ecf-b817-2d7f1ac0f99d",
   "metadata": {
    "collapsed": true,
    "jupyter": {
     "outputs_hidden": true
    },
    "tags": []
   },
   "outputs": [
    {
     "name": "stderr",
     "output_type": "stream",
     "text": [
      "GLCM is symmetrical, therefore Sum Average = 2 * Joint Average, only 1 needs to be calculated\n",
      "GLCM is symmetrical, therefore Sum Average = 2 * Joint Average, only 1 needs to be calculated\n",
      "GLCM is symmetrical, therefore Sum Average = 2 * Joint Average, only 1 needs to be calculated\n",
      "GLCM is symmetrical, therefore Sum Average = 2 * Joint Average, only 1 needs to be calculated\n",
      "GLCM is symmetrical, therefore Sum Average = 2 * Joint Average, only 1 needs to be calculated\n",
      "GLCM is symmetrical, therefore Sum Average = 2 * Joint Average, only 1 needs to be calculated\n",
      "GLCM is symmetrical, therefore Sum Average = 2 * Joint Average, only 1 needs to be calculated\n",
      "GLCM is symmetrical, therefore Sum Average = 2 * Joint Average, only 1 needs to be calculated\n",
      "GLCM is symmetrical, therefore Sum Average = 2 * Joint Average, only 1 needs to be calculated\n",
      "GLCM is symmetrical, therefore Sum Average = 2 * Joint Average, only 1 needs to be calculated\n",
      "GLCM is symmetrical, therefore Sum Average = 2 * Joint Average, only 1 needs to be calculated\n",
      "GLCM is symmetrical, therefore Sum Average = 2 * Joint Average, only 1 needs to be calculated\n",
      "GLCM is symmetrical, therefore Sum Average = 2 * Joint Average, only 1 needs to be calculated\n",
      "GLCM is symmetrical, therefore Sum Average = 2 * Joint Average, only 1 needs to be calculated\n",
      "GLCM is symmetrical, therefore Sum Average = 2 * Joint Average, only 1 needs to be calculated\n",
      "GLCM is symmetrical, therefore Sum Average = 2 * Joint Average, only 1 needs to be calculated\n",
      "GLCM is symmetrical, therefore Sum Average = 2 * Joint Average, only 1 needs to be calculated\n",
      "GLCM is symmetrical, therefore Sum Average = 2 * Joint Average, only 1 needs to be calculated\n",
      "GLCM is symmetrical, therefore Sum Average = 2 * Joint Average, only 1 needs to be calculated\n",
      "GLCM is symmetrical, therefore Sum Average = 2 * Joint Average, only 1 needs to be calculated\n",
      "GLCM is symmetrical, therefore Sum Average = 2 * Joint Average, only 1 needs to be calculated\n",
      "GLCM is symmetrical, therefore Sum Average = 2 * Joint Average, only 1 needs to be calculated\n",
      "GLCM is symmetrical, therefore Sum Average = 2 * Joint Average, only 1 needs to be calculated\n",
      "GLCM is symmetrical, therefore Sum Average = 2 * Joint Average, only 1 needs to be calculated\n",
      "GLCM is symmetrical, therefore Sum Average = 2 * Joint Average, only 1 needs to be calculated\n",
      "GLCM is symmetrical, therefore Sum Average = 2 * Joint Average, only 1 needs to be calculated\n",
      "GLCM is symmetrical, therefore Sum Average = 2 * Joint Average, only 1 needs to be calculated\n",
      "GLCM is symmetrical, therefore Sum Average = 2 * Joint Average, only 1 needs to be calculated\n",
      "GLCM is symmetrical, therefore Sum Average = 2 * Joint Average, only 1 needs to be calculated\n",
      "GLCM is symmetrical, therefore Sum Average = 2 * Joint Average, only 1 needs to be calculated\n",
      "GLCM is symmetrical, therefore Sum Average = 2 * Joint Average, only 1 needs to be calculated\n",
      "GLCM is symmetrical, therefore Sum Average = 2 * Joint Average, only 1 needs to be calculated\n",
      "GLCM is symmetrical, therefore Sum Average = 2 * Joint Average, only 1 needs to be calculated\n",
      "GLCM is symmetrical, therefore Sum Average = 2 * Joint Average, only 1 needs to be calculated\n",
      "GLCM is symmetrical, therefore Sum Average = 2 * Joint Average, only 1 needs to be calculated\n",
      "GLCM is symmetrical, therefore Sum Average = 2 * Joint Average, only 1 needs to be calculated\n",
      "GLCM is symmetrical, therefore Sum Average = 2 * Joint Average, only 1 needs to be calculated\n",
      "GLCM is symmetrical, therefore Sum Average = 2 * Joint Average, only 1 needs to be calculated\n",
      "GLCM is symmetrical, therefore Sum Average = 2 * Joint Average, only 1 needs to be calculated\n",
      "GLCM is symmetrical, therefore Sum Average = 2 * Joint Average, only 1 needs to be calculated\n",
      "GLCM is symmetrical, therefore Sum Average = 2 * Joint Average, only 1 needs to be calculated\n",
      "GLCM is symmetrical, therefore Sum Average = 2 * Joint Average, only 1 needs to be calculated\n",
      "GLCM is symmetrical, therefore Sum Average = 2 * Joint Average, only 1 needs to be calculated\n",
      "GLCM is symmetrical, therefore Sum Average = 2 * Joint Average, only 1 needs to be calculated\n",
      "GLCM is symmetrical, therefore Sum Average = 2 * Joint Average, only 1 needs to be calculated\n",
      "GLCM is symmetrical, therefore Sum Average = 2 * Joint Average, only 1 needs to be calculated\n",
      "GLCM is symmetrical, therefore Sum Average = 2 * Joint Average, only 1 needs to be calculated\n",
      "GLCM is symmetrical, therefore Sum Average = 2 * Joint Average, only 1 needs to be calculated\n",
      "GLCM is symmetrical, therefore Sum Average = 2 * Joint Average, only 1 needs to be calculated\n",
      "GLCM is symmetrical, therefore Sum Average = 2 * Joint Average, only 1 needs to be calculated\n",
      "GLCM is symmetrical, therefore Sum Average = 2 * Joint Average, only 1 needs to be calculated\n",
      "GLCM is symmetrical, therefore Sum Average = 2 * Joint Average, only 1 needs to be calculated\n"
     ]
    }
   ],
   "source": [
    "# for index, row in data.iterrows():\n",
    "#     for patient in os.listdir(input_path):\n",
    "#         if patient.split(' ')[-1] == row['住院号']:\n",
    "#             input = os.path.join(input_path,patient)\n",
    "#             image = ReadImage(input)\n",
    "#             mask = ReadMask(input)\n",
    "#             RadiomicsFeature(image, mask, row['住院号'])"
   ]
  },
  {
   "cell_type": "markdown",
   "id": "c158a75f-8ce5-44cb-87df-7f5328ee5f98",
   "metadata": {},
   "source": [
    "***\n",
    "处理提取出来的特征\n",
    "==="
   ]
  },
  {
   "cell_type": "code",
   "execution_count": 334,
   "id": "3b22e9eb-ba17-497d-9193-434f84aba41b",
   "metadata": {
    "tags": []
   },
   "outputs": [
    {
     "data": {
      "text/plain": [
       "(52, 112)"
      ]
     },
     "execution_count": 334,
     "metadata": {},
     "output_type": "execute_result"
    }
   ],
   "source": [
    "cancer_data = pd.read_csv('cancer.csv').T.drop(['ID']).T\n",
    "cols = [x for i, x in enumerate(cancer_data.columns) if type(cancer_data.iat[1,i]) == str]\n",
    "cancer_data = cancer_data.drop(cols,axis=1)\n",
    "\n",
    "lymph_data = pd.read_csv('lymph.csv').T.drop(['ID']).T\n",
    "cols = [x for i, x in enumerate(lymph_data.columns) if type(lymph_data.iat[1,i]) == str]\n",
    "lymph_data=lymph_data.drop(cols,axis=1)\n",
    "\n",
    "clinical_data1 = pd.read_excel(xlsx_filepath).T[5:11].T\n",
    "clinical_data2 = pd.read_excel('D:/Desktop/ms/2-10.xls').T[2:50].T\n",
    "data = pd.concat([clinical_data1,clinical_data2,cancer_data,lymph_data],axis=1)\n",
    "\n",
    "lymph_data.shape"
   ]
  },
  {
   "cell_type": "code",
   "execution_count": 335,
   "id": "769ec696-1212-445d-9182-46a849902e55",
   "metadata": {
    "tags": []
   },
   "outputs": [],
   "source": [
    "#lable = [1,0,0,0,0,1,1,1,0,1,1,1,0,1,0,1,1,1,1,0,0,0,0,1,1,1,1,1,0,1,1,1,1,0,1,1,0,1,0,0,0,0,1,1,0,1,1,0,0,1,0,1]\n",
    "lable =[1,\t1,\t1\t,1\t,0\t,1\t,1\t,1\t,1\t,1\t,1\t,1,\t0\t,1,\t1\t,1,\t1,\t1,\t1,\t0,\t0,\t1,\t0,\t1,\t1,\t1,\t1,\t1,\t0,\t1,\t1,\t1,\t1,\t1,\t1,\t1,\t1,\t1,\t0,\t0,\t1,\t0,\t1,\t1,\t0,\t1,\t1,\t1,0,1,0,1]\n",
    "\n",
    "data.insert(0, 'lable', lable)"
   ]
  },
  {
   "cell_type": "code",
   "execution_count": 336,
   "id": "6c80819d-1fab-4790-91e6-7b26161b1ff0",
   "metadata": {},
   "outputs": [],
   "source": [
    "from sklearn.model_selection import train_test_split #分割训练集和验证集\n",
    "from sklearn.ensemble import RandomForestClassifier #导入随机森林分类器\n",
    "#from sklearn.externals import joblib #用来保存 sklearn 训练好的模型\n",
    "from sklearn.model_selection import cross_val_score\n",
    "from sklearn.ensemble import ExtraTreesClassifier\n",
    "from sklearn.tree import DecisionTreeClassifier\n",
    "from sklearn import preprocessing\n",
    "from sklearn.linear_model import LassoCV\n",
    "from sklearn.svm import LinearSVC\n",
    "from sklearn.feature_selection import SelectFromModel"
   ]
  },
  {
   "cell_type": "code",
   "execution_count": 337,
   "id": "4c1541e5-b736-4d1e-acb9-d6ce11a8a060",
   "metadata": {
    "tags": []
   },
   "outputs": [],
   "source": [
    "X = data.T[1:].T\n",
    "y = data['lable']\n",
    "#先保存X的列名\n",
    "columnNames = X.columns\n",
    "X = X.astype(np.float32)#把x数据转换成np.float格式\n",
    "scaler = preprocessing.StandardScaler()\n",
    "X = scaler.fit_transform(X) #对x进行均值-标准差归一化\n",
    "X = pd.DataFrame(X,columns=columnNames)#转 DataFrame 格式\n",
    "X0 = X[:15]\n",
    "X = X[15:]\n",
    "y0 = y[:15]\n",
    "y = y[15:]"
   ]
  },
  {
   "cell_type": "code",
   "execution_count": 338,
   "id": "e4eceef4-3021-40cb-8e43-5c52d28601ac",
   "metadata": {},
   "outputs": [],
   "source": [
    "train_X, test_X, train_y, test_y = train_test_split(X, y, test_size = 0.3, random_state = 2021)"
   ]
  },
  {
   "cell_type": "code",
   "execution_count": 339,
   "id": "5cc52b12-9d1f-4aea-b70e-b01d88f30a67",
   "metadata": {},
   "outputs": [
    {
     "data": {
      "text/plain": [
       "0.725"
      ]
     },
     "execution_count": 339,
     "metadata": {},
     "output_type": "execute_result"
    }
   ],
   "source": [
    "clf = RandomForestClassifier(n_estimators=10, max_depth=None, min_samples_split=2, random_state=0)\n",
    "scores = cross_val_score(model_forest, X, y, cv=5)\n",
    "scores.mean()"
   ]
  },
  {
   "cell_type": "code",
   "execution_count": 340,
   "id": "e639d8e9-8ec8-44e3-bfd5-f0316b0e95f4",
   "metadata": {
    "tags": []
   },
   "outputs": [],
   "source": [
    "# 自己建立Lasso进行alpha选择的范围\n",
    "# 形成10为底的指数范围 10**（-10）~ 10**（1）,200个数值\n",
    "alpha_range = np.linspace(-1,1,10)\n",
    "#alpha_range在这个参数范围里挑出aplpha进行训练，cv是把数据集分5分，进行交叉验证，max_iter是训练10000轮\n",
    "lsvc = LinearSVC(C=1, penalty=\"l1\", dual=False).fit(X, y)\n",
    "#进行训练"
   ]
  },
  {
   "cell_type": "code",
   "execution_count": 341,
   "id": "cd29bea3-c894-4b90-b7e5-7eda46b32768",
   "metadata": {},
   "outputs": [
    {
     "data": {
      "text/plain": [
       "(37, 38)"
      ]
     },
     "execution_count": 341,
     "metadata": {},
     "output_type": "execute_result"
    }
   ],
   "source": [
    "model = SelectFromModel(clf).fit(X, y)\n",
    "X_new = model.transform(X)\n",
    "#X0 = model.transform(X0)\n",
    "X_new.shape"
   ]
  },
  {
   "cell_type": "code",
   "execution_count": 342,
   "id": "52bb0d71-f0b6-4d91-b142-dc6a4b699fde",
   "metadata": {},
   "outputs": [
    {
     "data": {
      "text/plain": [
       "0.725"
      ]
     },
     "execution_count": 342,
     "metadata": {},
     "output_type": "execute_result"
    }
   ],
   "source": [
    "#clf = DecisionTreeClassifier(max_depth=None, min_samples_split=2, random_state=0)\n",
    "#clf = RandomForestClassifier(n_estimators=10, max_depth=None, min_samples_split=2, random_state=0)\n",
    "clf = ExtraTreesClassifier(n_estimators=10, max_depth=None, min_samples_split=2, random_state=0)\n",
    "scores = cross_val_score(clf, X_new, y, cv=5)\n",
    "scores.mean()"
   ]
  },
  {
   "cell_type": "code",
   "execution_count": 343,
   "id": "0343e26e-7761-4b96-bf78-9608afecb7f8",
   "metadata": {},
   "outputs": [
    {
     "data": {
      "text/plain": [
       "array([0.00128472, 0.00128472, 0.        , 0.02603049, 0.01020823,\n",
       "       0.        , 0.00121811, 0.00528571, 0.        , 0.00309184,\n",
       "       0.        , 0.00293264, 0.        , 0.        , 0.00585241,\n",
       "       0.        , 0.        , 0.00171296, 0.01109684, 0.00392343,\n",
       "       0.0043086 , 0.        , 0.00501653, 0.00498955, 0.01087261,\n",
       "       0.00955453, 0.        , 0.0047004 , 0.00342593, 0.00171296,\n",
       "       0.00572458, 0.02954108, 0.        , 0.00765123, 0.00256944,\n",
       "       0.01022564, 0.00928807, 0.00256944, 0.00401887, 0.00750756,\n",
       "       0.0114116 , 0.00460869, 0.00502469, 0.00076132, 0.00622377,\n",
       "       0.00998141, 0.        , 0.01004419, 0.        , 0.00085648,\n",
       "       0.        , 0.        , 0.        , 0.0072178 , 0.00599537,\n",
       "       0.        , 0.00256944, 0.00233153, 0.        , 0.00085648,\n",
       "       0.00187981, 0.00135949, 0.        , 0.00026102, 0.00400363,\n",
       "       0.00200805, 0.00152943, 0.        , 0.00860288, 0.00407305,\n",
       "       0.00228395, 0.00702905, 0.00274074, 0.00429172, 0.00266461,\n",
       "       0.00481187, 0.00557937, 0.00074747, 0.        , 0.0023125 ,\n",
       "       0.        , 0.        , 0.00356217, 0.01278419, 0.00062809,\n",
       "       0.00114198, 0.        , 0.00352381, 0.        , 0.00353493,\n",
       "       0.00256679, 0.00647119, 0.00385417, 0.01062037, 0.00561471,\n",
       "       0.        , 0.02093327, 0.00115149, 0.003853  , 0.00475823,\n",
       "       0.00631985, 0.00462916, 0.01794089, 0.02119651, 0.00411111,\n",
       "       0.00264265, 0.        , 0.        , 0.        , 0.00137037,\n",
       "       0.00656378, 0.00114198, 0.        , 0.00663224, 0.        ,\n",
       "       0.00664981, 0.00224881, 0.00561756, 0.        , 0.        ,\n",
       "       0.00030745, 0.00385417, 0.00411903, 0.        , 0.0044537 ,\n",
       "       0.00122354, 0.00589881, 0.00311188, 0.0127658 , 0.00256944,\n",
       "       0.        , 0.        , 0.        , 0.00393122, 0.        ,\n",
       "       0.00731157, 0.00156328, 0.        , 0.        , 0.00323016,\n",
       "       0.00538082, 0.001875  , 0.00292406, 0.00182716, 0.00265101,\n",
       "       0.        , 0.0045679 , 0.00171296, 0.00671912, 0.        ,\n",
       "       0.00704762, 0.00034259, 0.00256677, 0.0025387 , 0.        ,\n",
       "       0.00715538, 0.00491593, 0.01412694, 0.00256944, 0.0088292 ,\n",
       "       0.00829428, 0.0044537 , 0.00411111, 0.        , 0.        ,\n",
       "       0.00771429, 0.00082222, 0.        , 0.01063682, 0.        ,\n",
       "       0.        , 0.0069878 , 0.01044525, 0.        , 0.        ,\n",
       "       0.        , 0.        , 0.00685185, 0.00417412, 0.        ,\n",
       "       0.00342593, 0.00065256, 0.00528164, 0.        , 0.        ,\n",
       "       0.00037374, 0.00335145, 0.00171296, 0.        , 0.00243621,\n",
       "       0.01525546, 0.00433951, 0.        , 0.        , 0.        ,\n",
       "       0.01133117, 0.00264648, 0.        , 0.00402546, 0.00172248,\n",
       "       0.00171296, 0.00171296, 0.00137037, 0.00135949, 0.00171296,\n",
       "       0.        , 0.0012948 , 0.00532242, 0.00494124, 0.00712919,\n",
       "       0.        , 0.00594743, 0.00347351, 0.0052911 , 0.00445815,\n",
       "       0.01505117, 0.        , 0.00712919, 0.        , 0.        ,\n",
       "       0.00583113, 0.        , 0.00952054, 0.00256944, 0.        ,\n",
       "       0.00057099, 0.0023125 , 0.00203924, 0.        , 0.00771465,\n",
       "       0.00524085, 0.        , 0.00228395, 0.00285494, 0.00091358,\n",
       "       0.        , 0.        , 0.00291982, 0.00793265, 0.00205885,\n",
       "       0.        , 0.00591751, 0.00228395, 0.        , 0.        ,\n",
       "       0.00389648, 0.00112121, 0.00343297, 0.01287669, 0.00171296,\n",
       "       0.00227768, 0.        , 0.        , 0.00583113, 0.        ,\n",
       "       0.00218147, 0.01000155, 0.00354012, 0.01737549, 0.00460869,\n",
       "       0.00228395, 0.        , 0.00228395, 0.00440527, 0.00274074,\n",
       "       0.00203479, 0.        , 0.00085648, 0.00305886, 0.00047106,\n",
       "       0.00924765, 0.00557011, 0.00089727, 0.00255428, 0.00291982,\n",
       "       0.00171296, 0.0023125 , 0.01006144])"
      ]
     },
     "execution_count": 343,
     "metadata": {},
     "output_type": "execute_result"
    }
   ],
   "source": [
    "clf = ExtraTreesClassifier(n_estimators=40)\n",
    "clf = clf.fit(X, y)\n",
    "clf.feature_importances_"
   ]
  },
  {
   "cell_type": "code",
   "execution_count": 344,
   "id": "c6657d6e-d07c-459b-acb2-a0d197262461",
   "metadata": {},
   "outputs": [
    {
     "data": {
      "text/plain": [
       "(37, 104)"
      ]
     },
     "execution_count": 344,
     "metadata": {},
     "output_type": "execute_result"
    }
   ],
   "source": [
    "model = SelectFromModel(clf, prefit=True)\n",
    "X_new = model.transform(X)\n",
    "X0 = model.transform(X0)\n",
    "X_new.shape"
   ]
  },
  {
   "cell_type": "code",
   "execution_count": 345,
   "id": "1f6dd9cd-e41f-4b36-8dce-242b389548ac",
   "metadata": {},
   "outputs": [
    {
     "data": {
      "text/plain": [
       "0.7499999999999999"
      ]
     },
     "execution_count": 345,
     "metadata": {},
     "output_type": "execute_result"
    }
   ],
   "source": [
    "scores = cross_val_score(clf, X_new, y, cv=5)\n",
    "scores.mean()"
   ]
  },
  {
   "cell_type": "markdown",
   "id": "399cff20-9d96-43c1-a096-14d7d8d86047",
   "metadata": {},
   "source": [
    "网格搜索\n",
    "============="
   ]
  },
  {
   "cell_type": "code",
   "execution_count": 346,
   "id": "4eb10e78-8e66-4f20-925c-b603f80440ac",
   "metadata": {},
   "outputs": [],
   "source": [
    "from sklearn.model_selection import GridSearchCV"
   ]
  },
  {
   "cell_type": "code",
   "execution_count": 347,
   "id": "f4b072cd-22fe-4971-9a57-6184ad4d1c1a",
   "metadata": {},
   "outputs": [
    {
     "name": "stdout",
     "output_type": "stream",
     "text": [
      "Fitting 5 folds for each of 1200 candidates, totalling 6000 fits\n"
     ]
    },
    {
     "name": "stderr",
     "output_type": "stream",
     "text": [
      "[Parallel(n_jobs=-1)]: Using backend LokyBackend with 12 concurrent workers.\n",
      "[Parallel(n_jobs=-1)]: Done  26 tasks      | elapsed:    4.4s\n",
      "[Parallel(n_jobs=-1)]: Done 1100 tasks      | elapsed:    6.3s\n",
      "[Parallel(n_jobs=-1)]: Done 5100 tasks      | elapsed:   11.7s\n"
     ]
    },
    {
     "name": "stdout",
     "output_type": "stream",
     "text": [
      "ExtraTreesClassifier(max_depth=11, n_estimators=11, random_state=2700)\n"
     ]
    },
    {
     "name": "stderr",
     "output_type": "stream",
     "text": [
      "[Parallel(n_jobs=-1)]: Done 6000 out of 6000 | elapsed:   12.8s finished\n"
     ]
    },
    {
     "data": {
      "text/plain": [
       "0.8071428571428572"
      ]
     },
     "execution_count": 347,
     "metadata": {},
     "output_type": "execute_result"
    }
   ],
   "source": [
    "#设定网格搜索的xgboost参数搜索范围，值搜索XGBoost的主要6个参数\n",
    "param_dist = {\n",
    "        'n_estimators':range(10,15,1),\n",
    "        'max_depth':range(11,15,1),\n",
    "        'min_samples_split':range(2,4,1),\n",
    "        'random_state':range(1000,4000,100)\n",
    "        }\n",
    " \n",
    "#param_dist字典类型，放入参数搜索范围\n",
    "#scoring = 'neg_log_loss'，精度评价方式设定为“neg_log_loss“\n",
    "#n_iter=300，训练300次，数值越大，获得的参数精度越大，但是搜索时间越长\n",
    "#n_jobs = -1，使用所有的CPU进行训练，默认为1，使用1个CPU\n",
    "grid = GridSearchCV(clf, param_dist, refit = True, cv = 5, verbose = 1, n_jobs = -1)\n",
    "  \n",
    "#在训练集上训练\n",
    "grid.fit(X_new, y)\n",
    "#返回最优的训练器\n",
    "best_estimator = grid.best_estimator_\n",
    "print(best_estimator)\n",
    "grid.best_score_\n",
    "#输出最优训练器的精度"
   ]
  },
  {
   "cell_type": "markdown",
   "id": "be32c5b6-d624-423d-86c1-c03b1898259f",
   "metadata": {},
   "source": [
    "绘制混淆矩阵和ROC图表\n",
    "======"
   ]
  },
  {
   "cell_type": "code",
   "execution_count": 348,
   "id": "f30a5e04-a3cf-4f4b-a5a8-440c94d0a3a1",
   "metadata": {},
   "outputs": [
    {
     "data": {
      "image/png": "[encoded data removed]",
      "text/plain": [
       "<Figure size 432x360 with 2 Axes>"
      ]
     },
     "metadata": {
      "needs_background": "light"
     },
     "output_type": "display_data"
    },
    {
     "name": "stdout",
     "output_type": "stream",
     "text": [
      "混淆矩阵为：\n",
      "[[ 1  1]\n",
      " [ 2 11]]\n",
      "\n",
      "计算各项指标：\n",
      "              precision    recall  f1-score   support\n",
      "\n",
      "           0       0.33      0.50      0.40         2\n",
      "           1       0.92      0.85      0.88        13\n",
      "\n",
      "    accuracy                           0.80        15\n",
      "   macro avg       0.62      0.67      0.64        15\n",
      "weighted avg       0.84      0.80      0.82        15\n",
      "\n"
     ]
    }
   ],
   "source": [
    "#绘制混淆矩阵\n",
    "from sklearn.metrics import confusion_matrix\n",
    "from sklearn.metrics import classification_report\n",
    "import seaborn as sns\n",
    "import matplotlib.pyplot as plt\n",
    "\n",
    "predict_label = best_estimator.predict(X0) #预测的标签\n",
    "label = y0.to_list()  #真实标签\n",
    "confusion = confusion_matrix(label, predict_label)#计算混淆矩阵\n",
    "\n",
    "plt.figure(figsize=(6,5))\n",
    "sns.heatmap(confusion,cmap='Blues_r',annot=True,annot_kws={'size':20,'weight':'bold', })#绘制混淆矩阵\n",
    "plt.xlabel('Predict')\n",
    "plt.ylabel('True')\n",
    "plt.show()\n",
    "print(\"混淆矩阵为：\\n{}\".format(confusion))\n",
    "#计算灵敏度(相对标签1，HGG的召回率)\n",
    "#计算特异度(相对标签0，LGG的召回率)\n",
    "print(\"\\n计算各项指标：\")\n",
    "print(classification_report(label, predict_label))"
   ]
  },
  {
   "cell_type": "code",
   "execution_count": 350,
   "id": "34fecc02-2da0-40e1-8ec4-3e2b59f140f9",
   "metadata": {},
   "outputs": [
    {
     "data": {
      "image/png": "[encoded data removed]",
      "text/plain": [
       "<Figure size 432x288 with 1 Axes>"
      ]
     },
     "metadata": {
      "needs_background": "light"
     },
     "output_type": "display_data"
    }
   ],
   "source": [
    "#绘制ROC曲线\n",
    "from sklearn.metrics import roc_curve, roc_auc_score\n",
    "kind = {'>50%':1,\"<50%\":0}\n",
    "#model_forest = joblib.load('/home/aistudio/my_model_forest.model')#这是自己训练模型，记得替换自己的\n",
    "label = y0.to_list()  #真实标签\n",
    "y_predict = best_estimator.predict_proba(X0)#得到标签0和1对应的概率\n",
    "fpr , tpr ,threshold = roc_curve(label, y_predict[:,kind['<50%']], pos_label=kind['<50%'])\n",
    "fpr1 , tpr1 ,threshold = roc_curve(label, y_predict[:,kind['>50%']], pos_label=kind['>50%'])\n",
    "plt.plot(fpr, tpr,marker='o', markersize=5,label='<50%')\n",
    "plt.plot(fpr1, tpr1,marker='o', markersize=5,label='>50%')\n",
    "plt.title(\">50% AUC:{:.2f}\".format(roc_auc_score(label,  y_predict[:,1]),fontsize=15))\n",
    "plt.xlabel('FPR')\n",
    "plt.ylabel('TPR')\n",
    "plt.legend(loc=4)\n",
    "plt.show()"
   ]
  },
  {
   "cell_type": "code",
   "execution_count": null,
   "id": "6b4f08d0-ae2a-4dff-9cd2-c236b48f617b",
   "metadata": {},
   "outputs": [],
   "source": []
  }
 ],
 "metadata": {
  "kernelspec": {
   "display_name": "Python 3",
   "language": "python",
   "name": "python3"
  },
  "language_info": {
   "codemirror_mode": {
    "name": "ipython",
    "version": 3
   },
   "file_extension": ".py",
   "mimetype": "text/x-python",
   "name": "python",
   "nbconvert_exporter": "python",
   "pygments_lexer": "ipython3",
   "version": "3.7.0"
  }
 },
 "nbformat": 4,
 "nbformat_minor": 5
}
